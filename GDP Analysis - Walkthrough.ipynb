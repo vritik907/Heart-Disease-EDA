{
 "cells": [
  {
   "cell_type": "code",
   "execution_count": 97,
   "id": "716d419a",
   "metadata": {},
   "outputs": [
    {
     "data": {
      "text/html": [
       "<div>\n",
       "<style scoped>\n",
       "    .dataframe tbody tr th:only-of-type {\n",
       "        vertical-align: middle;\n",
       "    }\n",
       "\n",
       "    .dataframe tbody tr th {\n",
       "        vertical-align: top;\n",
       "    }\n",
       "\n",
       "    .dataframe thead th {\n",
       "        text-align: right;\n",
       "    }\n",
       "</style>\n",
       "<table border=\"1\" class=\"dataframe\">\n",
       "  <thead>\n",
       "    <tr style=\"text-align: right;\">\n",
       "      <th></th>\n",
       "      <th>Country Name</th>\n",
       "      <th>Country Code</th>\n",
       "      <th>Year</th>\n",
       "      <th>Value</th>\n",
       "    </tr>\n",
       "  </thead>\n",
       "  <tbody>\n",
       "    <tr>\n",
       "      <th>0</th>\n",
       "      <td>Arab World</td>\n",
       "      <td>ARB</td>\n",
       "      <td>1968</td>\n",
       "      <td>2.576068e+10</td>\n",
       "    </tr>\n",
       "    <tr>\n",
       "      <th>1</th>\n",
       "      <td>Arab World</td>\n",
       "      <td>ARB</td>\n",
       "      <td>1969</td>\n",
       "      <td>2.843420e+10</td>\n",
       "    </tr>\n",
       "    <tr>\n",
       "      <th>2</th>\n",
       "      <td>Arab World</td>\n",
       "      <td>ARB</td>\n",
       "      <td>1970</td>\n",
       "      <td>3.138550e+10</td>\n",
       "    </tr>\n",
       "    <tr>\n",
       "      <th>3</th>\n",
       "      <td>Arab World</td>\n",
       "      <td>ARB</td>\n",
       "      <td>1971</td>\n",
       "      <td>3.642691e+10</td>\n",
       "    </tr>\n",
       "    <tr>\n",
       "      <th>4</th>\n",
       "      <td>Arab World</td>\n",
       "      <td>ARB</td>\n",
       "      <td>1972</td>\n",
       "      <td>4.331606e+10</td>\n",
       "    </tr>\n",
       "  </tbody>\n",
       "</table>\n",
       "</div>"
      ],
      "text/plain": [
       "  Country Name Country Code  Year         Value\n",
       "0   Arab World          ARB  1968  2.576068e+10\n",
       "1   Arab World          ARB  1969  2.843420e+10\n",
       "2   Arab World          ARB  1970  3.138550e+10\n",
       "3   Arab World          ARB  1971  3.642691e+10\n",
       "4   Arab World          ARB  1972  4.331606e+10"
      ]
     },
     "execution_count": 97,
     "metadata": {},
     "output_type": "execute_result"
    }
   ],
   "source": [
    "import pandas as pd\n",
    "import matplotlib.pyplot as plt\n",
    "\n",
    "df = pd.read_csv('gdp.csv')\n",
    "df.head()"
   ]
  },
  {
   "cell_type": "markdown",
   "id": "158f5de4",
   "metadata": {},
   "source": [
    "## 1) How many unique Countries Data we're having in the dataset?"
   ]
  },
  {
   "cell_type": "code",
   "execution_count": 77,
   "id": "deb06683",
   "metadata": {},
   "outputs": [
    {
     "name": "stdout",
     "output_type": "stream",
     "text": [
      "<class 'pandas.core.frame.DataFrame'>\n"
     ]
    }
   ],
   "source": [
    "print(type(df))"
   ]
  },
  {
   "cell_type": "code",
   "execution_count": 78,
   "id": "a0061003-d8d8-4565-a161-d915f86be8a8",
   "metadata": {},
   "outputs": [],
   "source": [
    "df1 = df[\"Country Name\"].nunique()"
   ]
  },
  {
   "cell_type": "code",
   "execution_count": 79,
   "id": "b12284c2-04a7-4066-b1c1-06b397157b5c",
   "metadata": {},
   "outputs": [
    {
     "data": {
      "text/plain": [
       "256"
      ]
     },
     "execution_count": 79,
     "metadata": {},
     "output_type": "execute_result"
    }
   ],
   "source": [
    "df1"
   ]
  },
  {
   "cell_type": "code",
   "execution_count": 80,
   "id": "bed7c90f-1d15-49ae-820a-035a54dd01be",
   "metadata": {},
   "outputs": [
    {
     "name": "stdout",
     "output_type": "stream",
     "text": [
      "0        Arab World\n",
      "1        Arab World\n",
      "2        Arab World\n",
      "3        Arab World\n",
      "4        Arab World\n",
      "            ...    \n",
      "11502      Zimbabwe\n",
      "11503      Zimbabwe\n",
      "11504      Zimbabwe\n",
      "11505      Zimbabwe\n",
      "11506      Zimbabwe\n",
      "Name: Country Name, Length: 11507, dtype: object\n"
     ]
    }
   ],
   "source": [
    "country = df[\"Country Name\"]\n",
    "print(country)"
   ]
  },
  {
   "cell_type": "raw",
   "id": "e603e957-124e-4937-ba15-72b1c1a3fb65",
   "metadata": {},
   "source": [
    "print(type(country)"
   ]
  },
  {
   "cell_type": "markdown",
   "id": "71c4c9b6",
   "metadata": {},
   "source": [
    "## 2) How many years of Data we're having for India"
   ]
  },
  {
   "cell_type": "code",
   "execution_count": 81,
   "id": "68efd865-e258-4e6e-8afa-789c1a2c3c77",
   "metadata": {},
   "outputs": [
    {
     "name": "stdout",
     "output_type": "stream",
     "text": [
      "     Country Name Country Code  Year         Value\n",
      "6074        India          IND  1960  3.653593e+10\n",
      "6075        India          IND  1961  3.870910e+10\n",
      "6076        India          IND  1962  4.159907e+10\n",
      "6077        India          IND  1963  4.777600e+10\n",
      "6078        India          IND  1964  5.572687e+10\n",
      "6079        India          IND  1965  5.876042e+10\n",
      "6080        India          IND  1966  4.525364e+10\n",
      "6081        India          IND  1967  4.946617e+10\n",
      "6082        India          IND  1968  5.237732e+10\n",
      "6083        India          IND  1969  5.766833e+10\n",
      "6084        India          IND  1970  6.158980e+10\n",
      "6085        India          IND  1971  6.645256e+10\n",
      "6086        India          IND  1972  7.050991e+10\n",
      "6087        India          IND  1973  8.437454e+10\n",
      "6088        India          IND  1974  9.819828e+10\n",
      "6089        India          IND  1975  9.715922e+10\n",
      "6090        India          IND  1976  1.013470e+11\n",
      "6091        India          IND  1977  1.198667e+11\n",
      "6092        India          IND  1978  1.354688e+11\n",
      "6093        India          IND  1979  1.509508e+11\n",
      "6094        India          IND  1980  1.838399e+11\n",
      "6095        India          IND  1981  1.909095e+11\n",
      "6096        India          IND  1982  1.980377e+11\n",
      "6097        India          IND  1983  2.153508e+11\n",
      "6098        India          IND  1984  2.093282e+11\n",
      "6099        India          IND  1985  2.294103e+11\n",
      "6100        India          IND  1986  2.456647e+11\n",
      "6101        India          IND  1987  2.753114e+11\n",
      "6102        India          IND  1988  2.926327e+11\n",
      "6103        India          IND  1989  2.920933e+11\n",
      "6104        India          IND  1990  3.166973e+11\n",
      "6105        India          IND  1991  2.665023e+11\n",
      "6106        India          IND  1992  2.843639e+11\n",
      "6107        India          IND  1993  2.755704e+11\n",
      "6108        India          IND  1994  3.229099e+11\n",
      "6109        India          IND  1995  3.554760e+11\n",
      "6110        India          IND  1996  3.876560e+11\n",
      "6111        India          IND  1997  4.103203e+11\n",
      "6112        India          IND  1998  4.157309e+11\n",
      "6113        India          IND  1999  4.527000e+11\n",
      "6114        India          IND  2000  4.621468e+11\n",
      "6115        India          IND  2001  4.789655e+11\n",
      "6116        India          IND  2002  5.080690e+11\n",
      "6117        India          IND  2003  5.995929e+11\n",
      "6118        India          IND  2004  6.996889e+11\n",
      "6119        India          IND  2005  8.089011e+11\n",
      "6120        India          IND  2006  9.203165e+11\n",
      "6121        India          IND  2007  1.201112e+12\n",
      "6122        India          IND  2008  1.186953e+12\n",
      "6123        India          IND  2009  1.323940e+12\n",
      "6124        India          IND  2010  1.656617e+12\n",
      "6125        India          IND  2011  1.823050e+12\n",
      "6126        India          IND  2012  1.827638e+12\n",
      "6127        India          IND  2013  1.856722e+12\n",
      "6128        India          IND  2014  2.035393e+12\n",
      "6129        India          IND  2015  2.089865e+12\n",
      "6130        India          IND  2016  2.263792e+12\n"
     ]
    }
   ],
   "source": [
    "india_data = df[df[\"Country Name\"] == \"India\"]\n",
    "\n",
    "# Print the filtered rows\n",
    "print(india_data)"
   ]
  },
  {
   "cell_type": "code",
   "execution_count": 82,
   "id": "679f2edb",
   "metadata": {},
   "outputs": [
    {
     "name": "stdout",
     "output_type": "stream",
     "text": [
      "57\n"
     ]
    }
   ],
   "source": [
    "count = 0\n",
    "\n",
    "for i in country:\n",
    "    if i == \"India\":\n",
    "        count+=1\n",
    "\n",
    "print(count)"
   ]
  },
  {
   "cell_type": "markdown",
   "id": "b7023ae4",
   "metadata": {},
   "source": [
    "## 3) Whats the world GDP in 1969?"
   ]
  },
  {
   "cell_type": "code",
   "execution_count": 83,
   "id": "41f5ba6a",
   "metadata": {},
   "outputs": [],
   "source": [
    "gdp = df[df[\"Year\"] == 1969].sum()"
   ]
  },
  {
   "cell_type": "code",
   "execution_count": 84,
   "id": "fdac4f5b-bb4a-4bed-90eb-bd7d59c0a418",
   "metadata": {},
   "outputs": [
    {
     "name": "stdout",
     "output_type": "stream",
     "text": [
      "Country Name    Arab WorldCaribbean small statesEarly-demograp...\n",
      "Country Code    ARBCSSEAREASEAPTEAEMUECSEUUHPCHICIBDIBTIDBIDAL...\n",
      "Year                                                       299288\n",
      "Value                                       19577201579296.539062\n",
      "dtype: object\n"
     ]
    }
   ],
   "source": [
    "print(gdp)"
   ]
  },
  {
   "cell_type": "code",
   "execution_count": 85,
   "id": "2f7712eb-7ea3-42b8-a3f0-f9e482b24fb0",
   "metadata": {},
   "outputs": [],
   "source": [
    "gdp = df[df[\"Year\"] == 1969][\"Value\"].sum()"
   ]
  },
  {
   "cell_type": "code",
   "execution_count": 86,
   "id": "522eb362-22d0-4568-a30c-c3fd820b4108",
   "metadata": {},
   "outputs": [
    {
     "name": "stdout",
     "output_type": "stream",
     "text": [
      "World gdp in 1969: 19577201579296.54\n"
     ]
    }
   ],
   "source": [
    "print(\"World gdp in 1969:\",gdp)"
   ]
  },
  {
   "cell_type": "markdown",
   "id": "c7f00c6a",
   "metadata": {},
   "source": [
    "## 4) Whats the % of GDP growth of India in Year 1994 (*as compare to 1993)?"
   ]
  },
  {
   "cell_type": "code",
   "execution_count": 87,
   "id": "8770deb7",
   "metadata": {},
   "outputs": [
    {
     "name": "stdout",
     "output_type": "stream",
     "text": [
      "275570363432.31 322909902308.131\n"
     ]
    }
   ],
   "source": [
    "gdp_1993 = df[(df[\"Country Name\"] == \"India\") & (df[\"Year\"] == 1993)][\"Value\"].values[0]\n",
    "gdp_1994 = df[(df[\"Country Name\"] == \"India\") & (df[\"Year\"] == 1994)][\"Value\"].values[0]\n",
    "print(gdp_1993,gdp_1994)"
   ]
  },
  {
   "cell_type": "code",
   "execution_count": 88,
   "id": "181ab29f-e04c-4026-9c77-aa7c5b755b53",
   "metadata": {},
   "outputs": [
    {
     "data": {
      "text/plain": [
       "17.178748210146075"
      ]
     },
     "execution_count": 88,
     "metadata": {},
     "output_type": "execute_result"
    }
   ],
   "source": [
    "gdpp = ((gdp_1994 - gdp_1993) / gdp_1993) * 100\n",
    "gdpp"
   ]
  },
  {
   "cell_type": "code",
   "execution_count": null,
   "id": "04a8a0be-4fe3-4632-aa17-2f6881202602",
   "metadata": {},
   "outputs": [],
   "source": []
  },
  {
   "cell_type": "markdown",
   "id": "9c848bca",
   "metadata": {},
   "source": [
    "# Tasks\n",
    "\n",
    "### 1) Find GDP Growth of India from 1960 - 2016\n",
    "### 2) Create a new columns named as GDP which shows the GDP growth of each country for that year\n",
    "### 3) Create a graph of GDP Growth of India from 1960 - 2016"
   ]
  },
  {
   "cell_type": "markdown",
   "id": "093229c1-248e-477b-ac46-32e4efa1fd54",
   "metadata": {},
   "source": [
    "GDP Growth of india from 1960 - 2016"
   ]
  },
  {
   "cell_type": "code",
   "execution_count": 92,
   "id": "8ddcd334-ebf6-47cb-8c62-bcde2cd2c2af",
   "metadata": {},
   "outputs": [
    {
     "name": "stdout",
     "output_type": "stream",
     "text": [
      "GDP growth of India every year: 5.95%\n",
      "GDP growth of India every year: 7.47%\n",
      "GDP growth of India every year: 14.85%\n",
      "GDP growth of India every year: 16.64%\n",
      "GDP growth of India every year: 5.44%\n",
      "GDP growth of India every year: -22.99%\n",
      "GDP growth of India every year: 9.31%\n",
      "GDP growth of India every year: 5.89%\n",
      "GDP growth of India every year: 10.10%\n",
      "GDP growth of India every year: 6.80%\n",
      "GDP growth of India every year: 7.90%\n",
      "GDP growth of India every year: 6.11%\n",
      "GDP growth of India every year: 19.66%\n",
      "GDP growth of India every year: 16.38%\n",
      "GDP growth of India every year: -1.06%\n",
      "GDP growth of India every year: 4.31%\n",
      "GDP growth of India every year: 18.27%\n",
      "GDP growth of India every year: 13.02%\n",
      "GDP growth of India every year: 11.43%\n",
      "GDP growth of India every year: 21.79%\n",
      "GDP growth of India every year: 3.85%\n",
      "GDP growth of India every year: 3.73%\n",
      "GDP growth of India every year: 8.74%\n",
      "GDP growth of India every year: -2.80%\n",
      "GDP growth of India every year: 9.59%\n",
      "GDP growth of India every year: 7.09%\n",
      "GDP growth of India every year: 12.07%\n",
      "GDP growth of India every year: 6.29%\n",
      "GDP growth of India every year: -0.18%\n",
      "GDP growth of India every year: 8.42%\n",
      "GDP growth of India every year: -15.85%\n",
      "GDP growth of India every year: 6.70%\n",
      "GDP growth of India every year: -3.09%\n",
      "GDP growth of India every year: 17.18%\n",
      "GDP growth of India every year: 10.09%\n",
      "GDP growth of India every year: 9.05%\n",
      "GDP growth of India every year: 5.85%\n",
      "GDP growth of India every year: 1.32%\n",
      "GDP growth of India every year: 8.89%\n",
      "GDP growth of India every year: 2.09%\n",
      "GDP growth of India every year: 3.64%\n",
      "GDP growth of India every year: 6.08%\n",
      "GDP growth of India every year: 18.01%\n",
      "GDP growth of India every year: 16.69%\n",
      "GDP growth of India every year: 15.61%\n",
      "GDP growth of India every year: 13.77%\n",
      "GDP growth of India every year: 30.51%\n",
      "GDP growth of India every year: -1.18%\n",
      "GDP growth of India every year: 11.54%\n",
      "GDP growth of India every year: 25.13%\n",
      "GDP growth of India every year: 10.05%\n",
      "GDP growth of India every year: 0.25%\n",
      "GDP growth of India every year: 1.59%\n",
      "GDP growth of India every year: 9.62%\n",
      "GDP growth of India every year: 2.68%\n",
      "GDP growth of India every year: 8.32%\n"
     ]
    }
   ],
   "source": [
    "india_data = india_data.sort_values(by=\"Year\")\n",
    "last_year_val = india_data[india_data[\"Year\"] == 1960][\"Value\"].values[0]\n",
    "\n",
    "\n",
    "value_list = india_data[\"Value\"].tolist()\n",
    "\n",
    "for value in value_list:\n",
    "    if value == last_year_val:\n",
    "        continue\n",
    "    \n",
    "    gdp_growth = ((value - last_year_val) / last_year_val) * 100\n",
    "    print(f\"GDP growth of India every year: {gdp_growth:.2f}%\")\n",
    "    last_year_val = value"
   ]
  },
  {
   "attachments": {},
   "cell_type": "markdown",
   "id": "eca54503-32fb-4437-9a2d-97f994bd73d8",
   "metadata": {},
   "source": [
    "\n",
    "\n",
    "Create a new columns named as GDP which shows the GDP growth of each country for that year"
   ]
  },
  {
   "cell_type": "code",
   "execution_count": 93,
   "id": "85d0e914-063c-45b0-9493-3a59182b0e8c",
   "metadata": {},
   "outputs": [],
   "source": [
    "df = df.sort_values(by=[\"Country Name\", \"Year\"])\n",
    "\n",
    "# Initialize a new column for GDP Growth\n",
    "df[\"GDP\"] = None\n",
    "\n",
    "# Calculate GDP Growth for each country\n",
    "for country in df[\"Country Name\"].unique():\n",
    "    # Filter data for the current country\n",
    "    country_data = df[df[\"Country Name\"] == country]\n",
    "    \n",
    "    # Calculate year-on-year GDP growth\n",
    "    for i in range(1, len(country_data)):\n",
    "        current_year_value = country_data.iloc[i][\"Value\"]\n",
    "        previous_year_value = country_data.iloc[i - 1][\"Value\"]\n",
    "        \n",
    "        # Calculate GDP growth\n",
    "        gdp_growthw = ((current_year_value - previous_year_value) / previous_year_value) * 100\n",
    "        \n",
    "    \n",
    "        df.loc[country_data.index[i], \"GDP\"] = gdp_growthw\n"
   ]
  },
  {
   "cell_type": "code",
   "execution_count": 94,
   "id": "2af54f6f-64ef-4ab7-8801-82a14e6229a4",
   "metadata": {},
   "outputs": [
    {
     "data": {
      "text/html": [
       "<div>\n",
       "<style scoped>\n",
       "    .dataframe tbody tr th:only-of-type {\n",
       "        vertical-align: middle;\n",
       "    }\n",
       "\n",
       "    .dataframe tbody tr th {\n",
       "        vertical-align: top;\n",
       "    }\n",
       "\n",
       "    .dataframe thead th {\n",
       "        text-align: right;\n",
       "    }\n",
       "</style>\n",
       "<table border=\"1\" class=\"dataframe\">\n",
       "  <thead>\n",
       "    <tr style=\"text-align: right;\">\n",
       "      <th></th>\n",
       "      <th>Country Name</th>\n",
       "      <th>Country Code</th>\n",
       "      <th>Year</th>\n",
       "      <th>Value</th>\n",
       "      <th>GDP</th>\n",
       "    </tr>\n",
       "  </thead>\n",
       "  <tbody>\n",
       "    <tr>\n",
       "      <th>2306</th>\n",
       "      <td>Afghanistan</td>\n",
       "      <td>AFG</td>\n",
       "      <td>1960</td>\n",
       "      <td>5.377778e+08</td>\n",
       "      <td>None</td>\n",
       "    </tr>\n",
       "    <tr>\n",
       "      <th>2307</th>\n",
       "      <td>Afghanistan</td>\n",
       "      <td>AFG</td>\n",
       "      <td>1961</td>\n",
       "      <td>5.488889e+08</td>\n",
       "      <td>2.066111</td>\n",
       "    </tr>\n",
       "    <tr>\n",
       "      <th>2308</th>\n",
       "      <td>Afghanistan</td>\n",
       "      <td>AFG</td>\n",
       "      <td>1962</td>\n",
       "      <td>5.466667e+08</td>\n",
       "      <td>-0.404857</td>\n",
       "    </tr>\n",
       "    <tr>\n",
       "      <th>2309</th>\n",
       "      <td>Afghanistan</td>\n",
       "      <td>AFG</td>\n",
       "      <td>1963</td>\n",
       "      <td>7.511112e+08</td>\n",
       "      <td>37.398386</td>\n",
       "    </tr>\n",
       "    <tr>\n",
       "      <th>2310</th>\n",
       "      <td>Afghanistan</td>\n",
       "      <td>AFG</td>\n",
       "      <td>1964</td>\n",
       "      <td>8.000000e+08</td>\n",
       "      <td>6.50887</td>\n",
       "    </tr>\n",
       "  </tbody>\n",
       "</table>\n",
       "</div>"
      ],
      "text/plain": [
       "     Country Name Country Code  Year         Value        GDP\n",
       "2306  Afghanistan          AFG  1960  5.377778e+08       None\n",
       "2307  Afghanistan          AFG  1961  5.488889e+08   2.066111\n",
       "2308  Afghanistan          AFG  1962  5.466667e+08  -0.404857\n",
       "2309  Afghanistan          AFG  1963  7.511112e+08  37.398386\n",
       "2310  Afghanistan          AFG  1964  8.000000e+08    6.50887"
      ]
     },
     "execution_count": 94,
     "metadata": {},
     "output_type": "execute_result"
    }
   ],
   "source": [
    "df.head()"
   ]
  },
  {
   "cell_type": "markdown",
   "id": "6e544140-d55f-44e8-9cc8-fbe22be305bd",
   "metadata": {},
   "source": [
    "Create a graph of GDP Growth of India from 1960 - 2016\n"
   ]
  },
  {
   "cell_type": "code",
   "execution_count": 98,
   "id": "84f0b557-6909-4527-860d-7d37d1c2f8e0",
   "metadata": {},
   "outputs": [
    {
     "data": {
      "image/png": "[encoded data removed]",
      "text/plain": [
       "<Figure size 1000x600 with 1 Axes>"
      ]
     },
     "metadata": {},
     "output_type": "display_data"
    }
   ],
   "source": [
    "india_data = df[df[\"Country Name\"] == \"India\"]\n",
    "\n",
    "# Sort the data by year\n",
    "india_data = india_data.sort_values(by=\"Year\")\n",
    "\n",
    "# Calculate year-on-year GDP growth\n",
    "india_data[\"GDP Growth\"] = india_data[\"Value\"].pct_change() * 100\n",
    "\n",
    "# Plot the GDP Growth of India\n",
    "plt.figure(figsize=(10, 6))\n",
    "plt.plot(india_data[\"Year\"], india_data[\"GDP Growth\"], marker=\"o\", linestyle=\"-\", color=\"b\", label=\"India GDP Growth\")\n",
    "\n",
    "# Add title and labels\n",
    "plt.title(\"GDP Growth of India (1960 - 2016)\", fontsize=16)\n",
    "plt.xlabel(\"Year\", fontsize=14)\n",
    "plt.ylabel(\"GDP Growth (%)\", fontsize=14)\n",
    "plt.grid(True)\n",
    "plt.legend()\n",
    "\n",
    "# Show the plot\n",
    "plt.show()\n"
   ]
  }
 ],
 "metadata": {
  "kernelspec": {
   "display_name": "Python 3 (ipykernel)",
   "language": "python",
   "name": "python3"
  },
  "language_info": {
   "codemirror_mode": {
    "name": "ipython",
    "version": 3
   },
   "file_extension": ".py",
   "mimetype": "text/x-python",
   "name": "python",
   "nbconvert_exporter": "python",
   "pygments_lexer": "ipython3",
   "version": "3.12.7"
  }
 },
 "nbformat": 4,
 "nbformat_minor": 5
}
